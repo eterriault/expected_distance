{
 "cells": [
  {
   "cell_type": "code",
   "execution_count": 46,
   "metadata": {},
   "outputs": [],
   "source": [
    "import networkx as nx\n",
    "import numpy as np\n",
    "import itertools\n",
    "import matplotlib.pyplot as plt\n",
    "import pandas as pd\n",
    "import seaborn as sns\n",
    "import random"
   ]
  },
  {
   "cell_type": "code",
   "execution_count": 44,
   "metadata": {},
   "outputs": [
    {
     "data": {
      "image/png": "[encoded data removed]",
      "text/plain": [
       "<Figure size 432x288 with 1 Axes>"
      ]
     },
     "metadata": {},
     "output_type": "display_data"
    }
   ],
   "source": [
    "G = nx.Graph()\n",
    "G.add_nodes_from([0,1,2,3])\n",
    "G.add_edge(1,2)\n",
    "G.add_edge(2,3)\n",
    "G.add_edge(1,3)\n",
    "G.add_edge(1,0)\n",
    "G.add_edge(0,2)\n",
    "pos = { 1: (0, 20), 2: (20, 20), 3: (10, 0), 0:(10, 40)}\n",
    "#pos = { 0: (10, 30), 2: (20, 0), 1: (0, 0)}\n",
    "\n",
    "nx.draw(G, with_labels = True, pos=pos)"
   ]
  },
  {
   "cell_type": "code",
   "execution_count": 48,
   "metadata": {},
   "outputs": [
    {
     "data": {
      "text/plain": [
       "[[0, 1, 2, 3], [0, 1, 3], [0, 2, 1, 3], [0, 2, 3]]"
      ]
     },
     "execution_count": 48,
     "metadata": {},
     "output_type": "execute_result"
    }
   ],
   "source": [
    "list(nx.all_simple_paths(G, 0, 3))"
   ]
  },
  {
   "cell_type": "code",
   "execution_count": 4,
   "metadata": {},
   "outputs": [],
   "source": [
    "def resistance_distances(G):\n",
    "    n = len(G.nodes())\n",
    "\n",
    "    distances = np.zeros((n,n))\n",
    "    for s in G.nodes():\n",
    "        for t in G.nodes():\n",
    "            if s!=t:\n",
    "                distances[s, t] = nx.algorithms.distance_measures.resistance_distance(G, s, t)\n",
    "    return distances\n",
    "\n",
    "\n",
    "def expected_distances_2018(G):\n",
    "    n = len(G.nodes())\n",
    "    L = nx.laplacian_matrix(G).toarray()\n",
    "    L_mod = [x+1 for x in L] #adding 1 to solve be able to inverse matrix L\n",
    "    L_inv = np.linalg.inv(L_mod)\n",
    "    distances = np.zeros((n,n))\n",
    "    for s in G.nodes():\n",
    "        for t in G.nodes():\n",
    "            if s<t:\n",
    "                S = np.zeros(n)\n",
    "                S[s] = 1\n",
    "                S[t] = -1\n",
    "                V = np.matmul(S, L_inv) # vector of potentials\n",
    "                expected_distance = 0\n",
    "                for u,v in G.edges:\n",
    "                    expected_distance += abs(V[u]-V[v])\n",
    "                distances[s, t] = expected_distance\n",
    "                distances[t, s] = expected_distance\n",
    "    return distances\n",
    "    \n",
    "def expected_distances_new(G):\n",
    "    n = len(G.nodes())\n",
    "    distances = np.zeros((n,n))\n",
    "\n",
    "    for s in G.nodes():\n",
    "        for t in G.nodes():\n",
    "            if s!=t:\n",
    "                paths = list(nx.all_simple_paths(G, s, t))\n",
    "                sum_inv_lenghts = 0.0\n",
    "                for path in paths:\n",
    "                    sum_inv_lenghts += 1/(len(path)-1)\n",
    "                expected_distance = 0\n",
    "                for path2 in paths:\n",
    "                    expected_distance +=  1/(len(path2)-1)/sum_inv_lenghts * (len(path2)-1)\n",
    "                distances[s,t] = expected_distance\n",
    "    return distances\n"
   ]
  },
  {
   "cell_type": "code",
   "execution_count": 42,
   "metadata": {},
   "outputs": [],
   "source": [
    "res_distances = pd.DataFrame(resistance_distances(G)).round(2)\n",
    "exp_distances = pd.DataFrame(expected_distances_2018(G)).round(2)\n",
    "exp2_distances = pd.DataFrame(expected_distances_new(G)).round(2)\n"
   ]
  },
  {
   "cell_type": "code",
   "execution_count": 28,
   "metadata": {},
   "outputs": [
    {
     "data": {
      "text/html": [
       "<div>\n",
       "<style scoped>\n",
       "    .dataframe tbody tr th:only-of-type {\n",
       "        vertical-align: middle;\n",
       "    }\n",
       "\n",
       "    .dataframe tbody tr th {\n",
       "        vertical-align: top;\n",
       "    }\n",
       "\n",
       "    .dataframe thead th {\n",
       "        text-align: right;\n",
       "    }\n",
       "</style>\n",
       "<table border=\"1\" class=\"dataframe\">\n",
       "  <thead>\n",
       "    <tr style=\"text-align: right;\">\n",
       "      <th></th>\n",
       "      <th>0</th>\n",
       "      <th>1</th>\n",
       "      <th>2</th>\n",
       "    </tr>\n",
       "  </thead>\n",
       "  <tbody>\n",
       "    <tr>\n",
       "      <th>0</th>\n",
       "      <td>0.0</td>\n",
       "      <td>1.0</td>\n",
       "      <td>1.0</td>\n",
       "    </tr>\n",
       "    <tr>\n",
       "      <th>1</th>\n",
       "      <td>1.0</td>\n",
       "      <td>0.0</td>\n",
       "      <td>2.0</td>\n",
       "    </tr>\n",
       "    <tr>\n",
       "      <th>2</th>\n",
       "      <td>1.0</td>\n",
       "      <td>2.0</td>\n",
       "      <td>0.0</td>\n",
       "    </tr>\n",
       "  </tbody>\n",
       "</table>\n",
       "</div>"
      ],
      "text/plain": [
       "     0    1    2\n",
       "0  0.0  1.0  1.0\n",
       "1  1.0  0.0  2.0\n",
       "2  1.0  2.0  0.0"
      ]
     },
     "execution_count": 28,
     "metadata": {},
     "output_type": "execute_result"
    }
   ],
   "source": [
    "exp_distances"
   ]
  },
  {
   "cell_type": "markdown",
   "metadata": {},
   "source": [
    "### Resistance Distance"
   ]
  },
  {
   "cell_type": "code",
   "execution_count": 22,
   "metadata": {},
   "outputs": [
    {
     "data": {
      "text/plain": [
       "{(0, 1): Text(24.0, 40.0, '1.0'),\n",
       " (0, 2): Text(0.0, 16.0, '1.0'),\n",
       " (1, 2): Text(16.0, 16.0, '2.0')}"
      ]
     },
     "execution_count": 22,
     "metadata": {},
     "output_type": "execute_result"
    },
    {
     "data": {
      "image/png": "[encoded data removed]",
      "text/plain": [
       "<Figure size 432x288 with 1 Axes>"
      ]
     },
     "metadata": {},
     "output_type": "display_data"
    }
   ],
   "source": [
    "G_res = nx.from_numpy_matrix(np.matrix(res_distances))\n",
    "nx.draw(G_res, pos=pos, with_labels=True, style='--')\n",
    "grafo_labels = nx.get_edge_attributes(G_res,'weight')\n",
    "nx.draw_networkx_edge_labels(G_res, edge_labels = grafo_labels, pos=pos, label_pos = 0.4)\n"
   ]
  },
  {
   "cell_type": "markdown",
   "metadata": {},
   "source": [
    "### Expected Distance (2018)"
   ]
  },
  {
   "cell_type": "code",
   "execution_count": 35,
   "metadata": {},
   "outputs": [
    {
     "data": {
      "text/plain": [
       "{(0, 1): Text(4.0, 28.0, '1.5'),\n",
       " (0, 2): Text(16.0, 28.0, '1.5'),\n",
       " (0, 3): Text(10.0, 16.0, '2.0'),\n",
       " (1, 2): Text(12.0, 20.0, '1.5'),\n",
       " (1, 3): Text(6.0, 8.0, '1.5'),\n",
       " (2, 3): Text(14.0, 8.0, '1.5')}"
      ]
     },
     "execution_count": 35,
     "metadata": {},
     "output_type": "execute_result"
    },
    {
     "data": {
      "image/png": "[encoded data removed]",
      "text/plain": [
       "<Figure size 432x288 with 1 Axes>"
      ]
     },
     "metadata": {},
     "output_type": "display_data"
    }
   ],
   "source": [
    "G_exp = nx.from_numpy_matrix(np.matrix(exp_distances))\n",
    "nx.draw(G_exp, pos=pos, with_labels=True, style = '--')\n",
    "grafo_labels = nx.get_edge_attributes(G_exp,'weight')\n",
    "nx.draw_networkx_edge_labels(G_exp, edge_labels = grafo_labels, pos=pos, label_pos = 0.4)"
   ]
  },
  {
   "cell_type": "markdown",
   "metadata": {},
   "source": [
    "### New Expected Distance"
   ]
  },
  {
   "cell_type": "code",
   "execution_count": 43,
   "metadata": {},
   "outputs": [
    {
     "data": {
      "text/plain": [
       "{(0, 1): Text(4.0, 12.0, '1.0'),\n",
       " (0, 2): Text(16.0, 12.0, '1.0'),\n",
       " (1, 2): Text(12.0, 0.0, '2.0')}"
      ]
     },
     "execution_count": 43,
     "metadata": {},
     "output_type": "execute_result"
    },
    {
     "data": {
      "image/png": "[encoded data removed]",
      "text/plain": [
       "<Figure size 432x288 with 1 Axes>"
      ]
     },
     "metadata": {},
     "output_type": "display_data"
    }
   ],
   "source": [
    "G_exp2 = nx.from_numpy_matrix(np.matrix(exp2_distances))\n",
    "nx.draw(G_exp2, pos=pos, with_labels=True, style = '--')\n",
    "grafo_labels = nx.get_edge_attributes(G_exp2,'weight')\n",
    "nx.draw_networkx_edge_labels(G_exp2, edge_labels = grafo_labels, pos=pos, label_pos = 0.4)\n"
   ]
  }
 ],
 "metadata": {
  "interpreter": {
   "hash": "f7ebe926868bf1e20cdb50319c2331d02c7ccc6350dd88c58ae183b5c3f5d8ec"
  },
  "kernelspec": {
   "display_name": "Python 3.8.5 ('link_prediction')",
   "language": "python",
   "name": "python3"
  },
  "language_info": {
   "codemirror_mode": {
    "name": "ipython",
    "version": 3
   },
   "file_extension": ".py",
   "mimetype": "text/x-python",
   "name": "python",
   "nbconvert_exporter": "python",
   "pygments_lexer": "ipython3",
   "version": "3.8.5"
  },
  "orig_nbformat": 4
 },
 "nbformat": 4,
 "nbformat_minor": 2
}
